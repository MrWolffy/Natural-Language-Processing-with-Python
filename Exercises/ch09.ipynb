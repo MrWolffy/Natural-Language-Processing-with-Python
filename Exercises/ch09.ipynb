{
 "cells": [
  {
   "cell_type": "markdown",
   "metadata": {},
   "source": [
    "## 1"
   ]
  },
  {
   "cell_type": "markdown",
   "metadata": {},
   "source": [
    "> What constraints are required to correctly parse word sequences like `I am happy` and `she is happy` but not `*you is happy` or `*they am happy`? Implement two solutions for the present tense paradigm of the verb be in English, first taking Grammar (8) as your starting point, and then taking Grammar (20) as the starting point."
   ]
  },
  {
   "cell_type": "code",
   "execution_count": 22,
   "metadata": {},
   "outputs": [],
   "source": [
    "grammar = '''\n",
    "S -> P_1SG VP_1SG\n",
    "S -> P_2SG VP_PL\n",
    "S -> P_3SG VP_3SG\n",
    "S -> P_PL VP_PL\n",
    "S -> P_1SG\n",
    "VP_1SG -> V_1SG ADJ\n",
    "VP_3SG -> V_3SG ADJ\n",
    "VP_PL -> V_PL ADJ\n",
    "\n",
    "P_1SG -> 'I'\n",
    "P_2SG -> 'you'\n",
    "P_3SG -> 'she'\n",
    "P_PL -> 'they'\n",
    "V_1SG -> 'am'\n",
    "V_3SG -> 'is'\n",
    "V_PL -> 'are'\n",
    "ADJ -> 'happy'\n",
    "'''"
   ]
  },
  {
   "cell_type": "code",
   "execution_count": 23,
   "metadata": {},
   "outputs": [],
   "source": [
    "import nltk\n",
    "cp = nltk.CFG.fromstring(grammar)\n",
    "parser = nltk.ChartParser(cp)"
   ]
  },
  {
   "cell_type": "code",
   "execution_count": 24,
   "metadata": {},
   "outputs": [
    {
     "name": "stdout",
     "output_type": "stream",
     "text": [
      "(S (P_1SG I) (VP_1SG (V_1SG am) (ADJ happy)))\n"
     ]
    }
   ],
   "source": [
    "tokens = 'I am happy'.split()\n",
    "for tree in parser.parse(tokens):\n",
    "    print(tree)"
   ]
  },
  {
   "cell_type": "code",
   "execution_count": 25,
   "metadata": {},
   "outputs": [
    {
     "name": "stdout",
     "output_type": "stream",
     "text": [
      "(S (P_3SG she) (VP_3SG (V_3SG is) (ADJ happy)))\n"
     ]
    }
   ],
   "source": [
    "tokens = 'she is happy'.split()\n",
    "for tree in parser.parse(tokens):\n",
    "    print(tree)"
   ]
  },
  {
   "cell_type": "code",
   "execution_count": 26,
   "metadata": {},
   "outputs": [],
   "source": [
    "tokens = 'you is happy'.split()\n",
    "for tree in parser.parse(tokens):\n",
    "    print(tree)"
   ]
  },
  {
   "cell_type": "code",
   "execution_count": 27,
   "metadata": {},
   "outputs": [],
   "source": [
    "tokens = 'they am happy'.split()\n",
    "for tree in parser.parse(tokens):\n",
    "    print(tree)"
   ]
  },
  {
   "cell_type": "code",
   "execution_count": null,
   "metadata": {},
   "outputs": [],
   "source": []
  }
 ],
 "metadata": {
  "kernelspec": {
   "display_name": "Python 3",
   "language": "python",
   "name": "python3"
  },
  "language_info": {
   "codemirror_mode": {
    "name": "ipython",
    "version": 3
   },
   "file_extension": ".py",
   "mimetype": "text/x-python",
   "name": "python",
   "nbconvert_exporter": "python",
   "pygments_lexer": "ipython3",
   "version": "3.7.5"
  }
 },
 "nbformat": 4,
 "nbformat_minor": 4
}
