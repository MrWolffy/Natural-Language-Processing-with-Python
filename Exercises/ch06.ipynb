{
 "cells": [
  {
   "cell_type": "markdown",
   "metadata": {},
   "source": [
    "## 3"
   ]
  },
  {
   "cell_type": "markdown",
   "metadata": {},
   "source": [
    "> The Senseval 2 Corpus contains data intended to train word-sense disambiguation classifiers. It contains data for four words: `hard`, `interest`, `line`, and `serve`. Choose one of these four words, and load the corresponding data:\n",
    "> ```python\n",
    "> >>> from nltk.corpus import senseval\n",
    "> >>> instances = senseval.instances('hard.pos')\n",
    "> >>> size = int(len(instances) * 0.1)\n",
    "> >>> train_set, test_set = instances[size:], instances[:size]\n",
    "> ```\n",
    "> Using this dataset, build a classifier that predicts the correct sense tag for a given instance. See the corpus HOWTO at http://www.nltk.org/howto for information on using the instance objects returned by the Senseval 2 Corpus."
   ]
  },
  {
   "cell_type": "code",
   "execution_count": 1,
   "metadata": {},
   "outputs": [],
   "source": [
    "from nltk.corpus import senseval\n",
    "instances = senseval.instances('hard.pos')\n",
    "size = int(len(instances) * 0.1)"
   ]
  },
  {
   "cell_type": "code",
   "execution_count": 23,
   "metadata": {},
   "outputs": [],
   "source": [
    "def sense_features(instance):\n",
    "    return {'word': instance.context[instance.position][0],\n",
    "           'tag': instance.context[instance.position][1],\n",
    "           'tag-prev': instance.context[instance.position-1][1]}"
   ]
  },
  {
   "cell_type": "code",
   "execution_count": 24,
   "metadata": {},
   "outputs": [],
   "source": [
    "instances = [(sense_features(instance), instance.senses[0]) for instance in instances]"
   ]
  },
  {
   "cell_type": "code",
   "execution_count": 25,
   "metadata": {},
   "outputs": [],
   "source": [
    "train_set, test_set = instances[size:], instances[:size]"
   ]
  },
  {
   "cell_type": "code",
   "execution_count": 27,
   "metadata": {},
   "outputs": [],
   "source": [
    "import nltk\n",
    "classifier = nltk.NaiveBayesClassifier.train(train_set)"
   ]
  },
  {
   "cell_type": "code",
   "execution_count": 28,
   "metadata": {},
   "outputs": [
    {
     "name": "stdout",
     "output_type": "stream",
     "text": [
      "0.9676674364896074\n"
     ]
    }
   ],
   "source": [
    "print(nltk.classify.accuracy(classifier, test_set))"
   ]
  },
  {
   "cell_type": "markdown",
   "metadata": {},
   "source": [
    "## 6"
   ]
  },
  {
   "cell_type": "markdown",
   "metadata": {},
   "source": [
    "> The synonyms `strong` and `powerful` pattern differently (try combining them with `chip` and `sales`). What features are relevant in this distinction? Build a classifier that predicts when each word should be used."
   ]
  },
  {
   "cell_type": "code",
   "execution_count": 29,
   "metadata": {},
   "outputs": [],
   "source": [
    "from nltk.corpus import brown"
   ]
  },
  {
   "cell_type": "code",
   "execution_count": 36,
   "metadata": {},
   "outputs": [],
   "source": [
    "raw_sents_idx = [i for (i, sent) in enumerate(brown.sents()) if ('strong' in sent or 'powerful' in sent)]"
   ]
  },
  {
   "cell_type": "code",
   "execution_count": 37,
   "metadata": {},
   "outputs": [],
   "source": [
    "tagged_sents = [sent for (i, sent) in enumerate(brown.tagged_sents()) if i in raw_sents_idx]"
   ]
  },
  {
   "cell_type": "code",
   "execution_count": 39,
   "metadata": {},
   "outputs": [],
   "source": [
    "def syn_features(sent):\n",
    "    idx = 0\n",
    "    for i in range(len(sent)):\n",
    "        if sent[i][0] == 'strong' or sent[i][0] == 'powerful':\n",
    "            idx = i\n",
    "            break\n",
    "    ret1 = {'tag-prev': sent[idx-1][1],\n",
    "           'tag-after': sent[idx+1][1]}\n",
    "    ret2 = sent[idx][0]\n",
    "    return (ret1, ret2)"
   ]
  },
  {
   "cell_type": "code",
   "execution_count": 40,
   "metadata": {},
   "outputs": [],
   "source": [
    "tagged_sents = [syn_features(sent) for sent in tagged_sents]"
   ]
  },
  {
   "cell_type": "code",
   "execution_count": 41,
   "metadata": {},
   "outputs": [],
   "source": [
    "size = int(len(tagged_sents) * 0.1)\n",
    "train_set, test_set = tagged_sents[size:], tagged_sents[:size]"
   ]
  },
  {
   "cell_type": "code",
   "execution_count": 42,
   "metadata": {},
   "outputs": [],
   "source": [
    "classifier = nltk.NaiveBayesClassifier.train(train_set)"
   ]
  },
  {
   "cell_type": "code",
   "execution_count": 43,
   "metadata": {},
   "outputs": [
    {
     "name": "stdout",
     "output_type": "stream",
     "text": [
      "0.7083333333333334\n"
     ]
    }
   ],
   "source": [
    "print(nltk.classify.accuracy(classifier, test_set))"
   ]
  },
  {
   "cell_type": "markdown",
   "metadata": {},
   "source": [
    "## 9"
   ]
  },
  {
   "cell_type": "markdown",
   "metadata": {},
   "source": [
    "> The PP Attachment Corpus is a corpus describing prepositional phrase attachment decisions. Each instance in the corpus is encoded as a `PPAttachment` object:\n",
    "> ```python\n",
    "> >>> from nltk.corpus import ppattach\n",
    "> >>> ppattach.attachments('training')\n",
    "> [PPAttachment(sent='0', verb='join', noun1='board',\n",
    "> prep='as', noun2='director', attachment='V'),\n",
    "> PPAttachment(sent='1', verb='is', noun1='chairman',\n",
    "> prep='of', noun2='N.V.', attachment='N'),\n",
    "> ...]\n",
    "> >>> inst = ppattach.attachments('training')[1]\n",
    "> >>> (inst.noun1, inst.prep, inst.noun2)\n",
    "> ('chairman', 'of', 'N.V.')\n",
    "> ```\n",
    "> Select only the instances where `inst.attachment` is `N`:\n",
    "> ```python\n",
    "> >>> nattach = [inst for inst in ppattach.attachments('training')\n",
    "> ... if inst.attachment == 'N']\n",
    "> ```\n",
    "> Using this subcorpus, build a classifier that attempts to predict which preposition is used to connect a given pair of nouns. For example, given the pair of nouns `team` and `researchers`, the classifier should predict the preposition `of`. See the corpus HOWTO at http://www.nltk.org/howto for more information on using the PP Attachment Corpus."
   ]
  },
  {
   "cell_type": "code",
   "execution_count": 44,
   "metadata": {},
   "outputs": [],
   "source": [
    "from nltk.corpus import ppattach"
   ]
  },
  {
   "cell_type": "code",
   "execution_count": 45,
   "metadata": {},
   "outputs": [],
   "source": [
    "nattach = [inst for inst in ppattach.attachments('training') if inst.attachment == 'N']"
   ]
  },
  {
   "cell_type": "code",
   "execution_count": 51,
   "metadata": {},
   "outputs": [],
   "source": [
    "def prep_feature(inst):\n",
    "    return {'verb': inst.verb, 'noun1': inst.noun1, 'noun2': inst.noun2}"
   ]
  },
  {
   "cell_type": "code",
   "execution_count": 52,
   "metadata": {},
   "outputs": [],
   "source": [
    "nattach = [(prep_feature(inst), inst.prep) for inst in nattach]"
   ]
  },
  {
   "cell_type": "code",
   "execution_count": 54,
   "metadata": {},
   "outputs": [],
   "source": [
    "classifier = nltk.NaiveBayesClassifier.train(nattach)"
   ]
  },
  {
   "cell_type": "code",
   "execution_count": 55,
   "metadata": {},
   "outputs": [
    {
     "data": {
      "text/plain": [
       "'of'"
      ]
     },
     "execution_count": 55,
     "metadata": {},
     "output_type": "execute_result"
    }
   ],
   "source": [
    "classifier.classify({'verb': 'is', 'noun1': 'team', 'noun2': 'researchers'})"
   ]
  },
  {
   "cell_type": "code",
   "execution_count": null,
   "metadata": {},
   "outputs": [],
   "source": []
  }
 ],
 "metadata": {
  "kernelspec": {
   "display_name": "Python 3",
   "language": "python",
   "name": "python3"
  },
  "language_info": {
   "codemirror_mode": {
    "name": "ipython",
    "version": 3
   },
   "file_extension": ".py",
   "mimetype": "text/x-python",
   "name": "python",
   "nbconvert_exporter": "python",
   "pygments_lexer": "ipython3",
   "version": "3.7.5"
  }
 },
 "nbformat": 4,
 "nbformat_minor": 4
}
